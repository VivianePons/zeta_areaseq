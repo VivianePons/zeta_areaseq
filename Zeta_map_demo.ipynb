{
 "cells": [
  {
   "cell_type": "code",
   "execution_count": 1,
   "metadata": {},
   "outputs": [],
   "source": [
    "from areaseq_zeta import *"
   ]
  },
  {
   "cell_type": "markdown",
   "metadata": {},
   "source": [
    "## Area sequences and statistics\n",
    "\n",
    "### Area sequences\n",
    "\n",
    "Dyck paths are implemented in SageMath as *DyckWords*, using letter $1$ for north steps and letter $0$ for east steps. You can get the *area sequence* of a Dyck path and reversely construct a Dyck path from an area sequence."
   ]
  },
  {
   "cell_type": "code",
   "execution_count": 2,
   "metadata": {},
   "outputs": [
    {
     "data": {
      "text/plain": [
       "Dyck words with 4 opening parentheses and 4 closing parentheses"
      ]
     },
     "execution_count": 2,
     "metadata": {},
     "output_type": "execute_result"
    }
   ],
   "source": [
    "DyckWords(4)"
   ]
  },
  {
   "cell_type": "code",
   "execution_count": 4,
   "metadata": {},
   "outputs": [
    {
     "data": {
      "text/plain": [
       "14"
      ]
     },
     "execution_count": 4,
     "metadata": {},
     "output_type": "execute_result"
    }
   ],
   "source": [
    "DyckWords(4).cardinality()"
   ]
  },
  {
   "cell_type": "code",
   "execution_count": 5,
   "metadata": {},
   "outputs": [
    {
     "data": {
      "text/plain": [
       "[[1, 0, 1, 0, 1, 0, 1, 0],\n",
       " [1, 0, 1, 0, 1, 1, 0, 0],\n",
       " [1, 0, 1, 1, 0, 0, 1, 0],\n",
       " [1, 0, 1, 1, 0, 1, 0, 0],\n",
       " [1, 0, 1, 1, 1, 0, 0, 0],\n",
       " [1, 1, 0, 0, 1, 0, 1, 0],\n",
       " [1, 1, 0, 0, 1, 1, 0, 0],\n",
       " [1, 1, 0, 1, 0, 0, 1, 0],\n",
       " [1, 1, 0, 1, 0, 1, 0, 0],\n",
       " [1, 1, 0, 1, 1, 0, 0, 0],\n",
       " [1, 1, 1, 0, 0, 0, 1, 0],\n",
       " [1, 1, 1, 0, 0, 1, 0, 0],\n",
       " [1, 1, 1, 0, 1, 0, 0, 0],\n",
       " [1, 1, 1, 1, 0, 0, 0, 0]]"
      ]
     },
     "execution_count": 5,
     "metadata": {},
     "output_type": "execute_result"
    }
   ],
   "source": [
    "list(DyckWords(4))"
   ]
  },
  {
   "cell_type": "code",
   "execution_count": 8,
   "metadata": {},
   "outputs": [
    {
     "data": {
      "text/plain": [
       "[1, 1, 0, 1, 0, 0, 1, 0]"
      ]
     },
     "execution_count": 8,
     "metadata": {},
     "output_type": "execute_result"
    }
   ],
   "source": [
    "dw = DyckWord([1,1,0,1,0,0,1,0]); dw"
   ]
  },
  {
   "cell_type": "code",
   "execution_count": 9,
   "metadata": {},
   "outputs": [
    {
     "data": {
      "image/png": "[encoded data removed]",
      "text/plain": [
       "Graphics object consisting of 1 graphics primitive"
      ]
     },
     "execution_count": 9,
     "metadata": {},
     "output_type": "execute_result"
    }
   ],
   "source": [
    "dw.plot()"
   ]
  },
  {
   "cell_type": "code",
   "execution_count": 10,
   "metadata": {},
   "outputs": [
    {
     "data": {
      "text/plain": [
       "[0, 1, 1, 0]"
      ]
     },
     "execution_count": 10,
     "metadata": {},
     "output_type": "execute_result"
    }
   ],
   "source": [
    "dw.to_area_sequence()"
   ]
  },
  {
   "cell_type": "code",
   "execution_count": 11,
   "metadata": {},
   "outputs": [
    {
     "data": {
      "text/plain": [
       "[1, 1, 0, 1, 0, 0, 1, 0]"
      ]
     },
     "execution_count": 11,
     "metadata": {},
     "output_type": "execute_result"
    }
   ],
   "source": [
    "DyckWords().from_area_sequence([0,1,1,0])"
   ]
  },
  {
   "cell_type": "code",
   "execution_count": 13,
   "metadata": {},
   "outputs": [
    {
     "data": {
      "text/plain": [
       "[[0, 0, 0], [0, 0, 1], [0, 1, 0], [0, 1, 1], [0, 1, 2]]"
      ]
     },
     "execution_count": 13,
     "metadata": {},
     "output_type": "execute_result"
    }
   ],
   "source": [
    "list(dw.to_area_sequence() for dw in DyckWords(3))"
   ]
  },
  {
   "cell_type": "code",
   "execution_count": 12,
   "metadata": {},
   "outputs": [
    {
     "data": {
      "text/plain": [
       "[[0, 0, 0, 0],\n",
       " [0, 0, 0, 1],\n",
       " [0, 0, 1, 0],\n",
       " [0, 0, 1, 1],\n",
       " [0, 0, 1, 2],\n",
       " [0, 1, 0, 0],\n",
       " [0, 1, 0, 1],\n",
       " [0, 1, 1, 0],\n",
       " [0, 1, 1, 1],\n",
       " [0, 1, 1, 2],\n",
       " [0, 1, 2, 0],\n",
       " [0, 1, 2, 1],\n",
       " [0, 1, 2, 2],\n",
       " [0, 1, 2, 3]]"
      ]
     },
     "execution_count": 12,
     "metadata": {},
     "output_type": "execute_result"
    }
   ],
   "source": [
    "list(dw.to_area_sequence() for dw in DyckWords(4))"
   ]
  },
  {
   "cell_type": "markdown",
   "metadata": {},
   "source": [
    "The following functions iterates directly through all possible area sequences without using Dyck paths."
   ]
  },
  {
   "cell_type": "code",
   "execution_count": 2,
   "metadata": {},
   "outputs": [
    {
     "data": {
      "text/plain": [
       "[[0, 0, 0, 0],\n",
       " [0, 0, 0, 1],\n",
       " [0, 0, 1, 0],\n",
       " [0, 0, 1, 1],\n",
       " [0, 0, 1, 2],\n",
       " [0, 1, 0, 0],\n",
       " [0, 1, 0, 1],\n",
       " [0, 1, 1, 0],\n",
       " [0, 1, 1, 1],\n",
       " [0, 1, 1, 2],\n",
       " [0, 1, 2, 0],\n",
       " [0, 1, 2, 1],\n",
       " [0, 1, 2, 2],\n",
       " [0, 1, 2, 3]]"
      ]
     },
     "execution_count": 2,
     "metadata": {},
     "output_type": "execute_result"
    }
   ],
   "source": [
    "list(area_sequences(4))"
   ]
  },
  {
   "cell_type": "markdown",
   "metadata": {},
   "source": [
    "The example of Fig. 2."
   ]
  },
  {
   "cell_type": "code",
   "execution_count": 18,
   "metadata": {},
   "outputs": [
    {
     "data": {
      "text/plain": [
       "[1, 1, 1, 0, 0, 1, 0, 1, 0, 1, 1, 1, 0, 1, 0, 0, 0, 0, 1, 1, 0, 1, 0, 0, 1, 1, 1, 0, 1, 0, 0, 1, 0, 0]"
      ]
     },
     "execution_count": 18,
     "metadata": {},
     "output_type": "execute_result"
    }
   ],
   "source": [
    "seq = [0,1,2,1,1,1,2,3,3,0,1,1,0,1,2,2,1]\n",
    "dw = DyckWords().from_area_sequence(seq); dw"
   ]
  },
  {
   "cell_type": "code",
   "execution_count": 15,
   "metadata": {},
   "outputs": [
    {
     "data": {
      "image/png": "[encoded data removed]",
      "text/plain": [
       "Graphics object consisting of 1 graphics primitive"
      ]
     },
     "execution_count": 15,
     "metadata": {},
     "output_type": "execute_result"
    }
   ],
   "source": [
    "dw.plot()"
   ]
  },
  {
   "cell_type": "code",
   "execution_count": 16,
   "metadata": {},
   "outputs": [
    {
     "data": {
      "text/plain": [
       "22"
      ]
     },
     "execution_count": 16,
     "metadata": {},
     "output_type": "execute_result"
    }
   ],
   "source": [
    "dw.area()"
   ]
  },
  {
   "cell_type": "code",
   "execution_count": 17,
   "metadata": {},
   "outputs": [
    {
     "data": {
      "text/plain": [
       "22"
      ]
     },
     "execution_count": 17,
     "metadata": {},
     "output_type": "execute_result"
    }
   ],
   "source": [
    "sum(dw.to_area_sequence())"
   ]
  },
  {
   "cell_type": "markdown",
   "metadata": {},
   "source": [
    "### The dinv\n",
    "\n",
    "We implemented our own version of *dinv* directly on area sequences, it follows exactly Def. 2."
   ]
  },
  {
   "cell_type": "code",
   "execution_count": 21,
   "metadata": {},
   "outputs": [],
   "source": [
    "dinv??"
   ]
  },
  {
   "cell_type": "code",
   "execution_count": 19,
   "metadata": {},
   "outputs": [
    {
     "data": {
      "text/plain": [
       "65"
      ]
     },
     "execution_count": 19,
     "metadata": {},
     "output_type": "execute_result"
    }
   ],
   "source": [
    "seq = [0,1,2,1,1,1,2,3,3,0,1,1,0,1,2,2,1]\n",
    "dinv(seq)"
   ]
  },
  {
   "cell_type": "markdown",
   "metadata": {},
   "source": [
    "It is the same as the *dinv* statistic in SageMath."
   ]
  },
  {
   "cell_type": "code",
   "execution_count": 22,
   "metadata": {},
   "outputs": [
    {
     "data": {
      "text/plain": [
       "65"
      ]
     },
     "execution_count": 22,
     "metadata": {},
     "output_type": "execute_result"
    }
   ],
   "source": [
    "seq = [0,1,2,1,1,1,2,3,3,0,1,1,0,1,2,2,1]\n",
    "dw = DyckWords().from_area_sequence(seq)\n",
    "dw.dinv()"
   ]
  },
  {
   "cell_type": "code",
   "execution_count": 23,
   "metadata": {},
   "outputs": [
    {
     "data": {
      "text/plain": [
       "True"
      ]
     },
     "execution_count": 23,
     "metadata": {},
     "output_type": "execute_result"
    }
   ],
   "source": [
    "all(dinv(dw.to_area_sequence()) == dw.dinv() for dw in DyckWords(4))"
   ]
  },
  {
   "cell_type": "code",
   "execution_count": 24,
   "metadata": {},
   "outputs": [
    {
     "data": {
      "text/plain": [
       "True"
      ]
     },
     "execution_count": 24,
     "metadata": {},
     "output_type": "execute_result"
    }
   ],
   "source": [
    "all(dinv(dw.to_area_sequence()) == dw.dinv() for dw in DyckWords(5))"
   ]
  },
  {
   "cell_type": "code",
   "execution_count": 25,
   "metadata": {},
   "outputs": [
    {
     "data": {
      "text/plain": [
       "True"
      ]
     },
     "execution_count": 25,
     "metadata": {},
     "output_type": "execute_result"
    }
   ],
   "source": [
    "all(dinv(dw.to_area_sequence()) == dw.dinv() for dw in DyckWords(6))"
   ]
  },
  {
   "cell_type": "markdown",
   "metadata": {},
   "source": [
    "### The bounce\n",
    "\n",
    "The function ``bounce_seq`` gives the bounce sequence of a given area sequence as in Def. 3. The function ``bounce`` computes the bounce of the area sequence."
   ]
  },
  {
   "cell_type": "code",
   "execution_count": 26,
   "metadata": {},
   "outputs": [],
   "source": [
    "bounce_seq??"
   ]
  },
  {
   "cell_type": "code",
   "execution_count": 27,
   "metadata": {},
   "outputs": [
    {
     "data": {
      "text/plain": [
       "[0, 1, 2, 0, 1, 0, 1, 2, 3, 0, 1, 0, 0, 1, 2, 0, 1]"
      ]
     },
     "execution_count": 27,
     "metadata": {},
     "output_type": "execute_result"
    }
   ],
   "source": [
    "seq = [0,1,2,1,1,1,2,3,3,0,1,1,0,1,2,2,1]\n",
    "bounce_seq(seq)"
   ]
  },
  {
   "cell_type": "code",
   "execution_count": 28,
   "metadata": {},
   "outputs": [
    {
     "data": {
      "text/plain": [
       "47"
      ]
     },
     "execution_count": 28,
     "metadata": {},
     "output_type": "execute_result"
    }
   ],
   "source": [
    "bounce(seq)"
   ]
  },
  {
   "cell_type": "markdown",
   "metadata": {},
   "source": [
    "It is **different** from the bounce statistic implemented in SageMath where the bounce path is computed starting by end of the path. The bounce in SageMath correspond to our bounce (and Haglund's bounce) of the reversed Dyck path."
   ]
  },
  {
   "cell_type": "code",
   "execution_count": 29,
   "metadata": {},
   "outputs": [
    {
     "data": {
      "text/plain": [
       "47"
      ]
     },
     "execution_count": 29,
     "metadata": {},
     "output_type": "execute_result"
    }
   ],
   "source": [
    "seq = [0,1,2,1,1,1,2,3,3,0,1,1,0,1,2,2,1]\n",
    "dw = DyckWords().from_area_sequence(seq)\n",
    "dw.reverse().bounce()"
   ]
  },
  {
   "cell_type": "markdown",
   "metadata": {},
   "source": [
    "## The Map\n",
    "\n",
    "### Area to dinv\n",
    "\n",
    "The ``insert`` function performs the insertion in the area sequence as described in the paper."
   ]
  },
  {
   "cell_type": "code",
   "execution_count": 3,
   "metadata": {},
   "outputs": [],
   "source": [
    "insert??"
   ]
  },
  {
   "cell_type": "code",
   "execution_count": 2,
   "metadata": {},
   "outputs": [],
   "source": [
    "seq = [0,1,0]"
   ]
  },
  {
   "cell_type": "code",
   "execution_count": 13,
   "metadata": {},
   "outputs": [
    {
     "name": "stdout",
     "output_type": "stream",
     "text": [
      "0 [0, 0, 1, 0]\n",
      "1 [0, 1, 1, 0]\n",
      "2 [0, 1, 2, 0]\n",
      "3 [0, 1, 0, 1]\n"
     ]
    }
   ],
   "source": [
    "for i in range(len(seq) + 1):\n",
    "    print(i,insert(seq,i))"
   ]
  },
  {
   "cell_type": "markdown",
   "metadata": {},
   "source": [
    "The function ``last_position`` gives the list index of the last inserted entry: the leftmost maximal value in the rightmost block of maximal values. As it is the list index, it corresponds to $i_0 - 1$.\n",
    "\n",
    "``admissible_insertion_positions`` is an iterator on the admissible posibles in admissible order.\n",
    "We also provide ``M_positions`` and ``Mprime_positions``"
   ]
  },
  {
   "cell_type": "code",
   "execution_count": 2,
   "metadata": {},
   "outputs": [],
   "source": [
    "seq = [0,1,2,2,2,1,0,1,2,2,0,1,1]"
   ]
  },
  {
   "cell_type": "code",
   "execution_count": 3,
   "metadata": {},
   "outputs": [
    {
     "data": {
      "text/plain": [
       "8"
      ]
     },
     "execution_count": 3,
     "metadata": {},
     "output_type": "execute_result"
    }
   ],
   "source": [
    "last_position(seq)"
   ]
  },
  {
   "cell_type": "code",
   "execution_count": 4,
   "metadata": {},
   "outputs": [
    {
     "data": {
      "text/plain": [
       "[10, 9, 5, 4, 3, 13, 12, 8]"
      ]
     },
     "execution_count": 4,
     "metadata": {},
     "output_type": "execute_result"
    }
   ],
   "source": [
    "list(admissible_insertion_positions(seq))"
   ]
  },
  {
   "cell_type": "code",
   "execution_count": 5,
   "metadata": {},
   "outputs": [
    {
     "data": {
      "text/plain": [
       "[10, 9, 5, 4, 3]"
      ]
     },
     "execution_count": 5,
     "metadata": {},
     "output_type": "execute_result"
    }
   ],
   "source": [
    "list(M_positions(seq))"
   ]
  },
  {
   "cell_type": "code",
   "execution_count": 6,
   "metadata": {},
   "outputs": [
    {
     "data": {
      "text/plain": [
       "[13, 12]"
      ]
     },
     "execution_count": 6,
     "metadata": {},
     "output_type": "execute_result"
    }
   ],
   "source": [
    "list(Mprime_positions(seq))"
   ]
  },
  {
   "cell_type": "markdown",
   "metadata": {},
   "source": [
    "We can check Proposition 5 directly."
   ]
  },
  {
   "cell_type": "code",
   "execution_count": 6,
   "metadata": {},
   "outputs": [
    {
     "data": {
      "text/plain": [
       "True"
      ]
     },
     "execution_count": 6,
     "metadata": {},
     "output_type": "execute_result"
    }
   ],
   "source": [
    "seq = [0,1,2,2,2,1,0,1,2,2,0,1,1]\n",
    "all(dinv(insert(seq,ci)) == dinv(seq) + i for i,ci in enumerate(admissible_insertion_positions(seq)))"
   ]
  },
  {
   "cell_type": "code",
   "execution_count": 13,
   "metadata": {},
   "outputs": [
    {
     "data": {
      "text/plain": [
       "True"
      ]
     },
     "execution_count": 13,
     "metadata": {},
     "output_type": "execute_result"
    }
   ],
   "source": [
    "all(dinv(insert(seq,ci)) == dinv(seq) + i for seq in area_sequences(4) for i,ci in enumerate(admissible_insertion_positions(seq)))"
   ]
  },
  {
   "cell_type": "code",
   "execution_count": 14,
   "metadata": {},
   "outputs": [
    {
     "data": {
      "text/plain": [
       "True"
      ]
     },
     "execution_count": 14,
     "metadata": {},
     "output_type": "execute_result"
    }
   ],
   "source": [
    "all(dinv(insert(seq,ci)) == dinv(seq) + i for seq in area_sequences(5) for i,ci in enumerate(admissible_insertion_positions(seq)))"
   ]
  },
  {
   "cell_type": "code",
   "execution_count": 15,
   "metadata": {},
   "outputs": [
    {
     "data": {
      "text/plain": [
       "True"
      ]
     },
     "execution_count": 15,
     "metadata": {},
     "output_type": "execute_result"
    }
   ],
   "source": [
    "all(dinv(insert(seq,ci)) == dinv(seq) + i for seq in area_sequences(6) for i,ci in enumerate(admissible_insertion_positions(seq)))"
   ]
  },
  {
   "cell_type": "markdown",
   "metadata": {},
   "source": [
    "Here is the example of Fig. 4"
   ]
  },
  {
   "cell_type": "code",
   "execution_count": 16,
   "metadata": {},
   "outputs": [
    {
     "name": "stdout",
     "output_type": "stream",
     "text": [
      "[0, 1, 2, 2, 2, 1, 0, 1, 2, 2, 0, 1, 1] 44\n",
      "0 10 [0, 1, 2, 2, 2, 1, 0, 1, 2, 2, 3, 0, 1, 1] 44\n",
      "1 9 [0, 1, 2, 2, 2, 1, 0, 1, 2, 3, 2, 0, 1, 1] 45\n",
      "2 5 [0, 1, 2, 2, 2, 3, 1, 0, 1, 2, 2, 0, 1, 1] 46\n",
      "3 4 [0, 1, 2, 2, 3, 2, 1, 0, 1, 2, 2, 0, 1, 1] 47\n",
      "4 3 [0, 1, 2, 3, 2, 2, 1, 0, 1, 2, 2, 0, 1, 1] 48\n",
      "5 13 [0, 1, 2, 2, 2, 1, 0, 1, 2, 2, 0, 1, 1, 2] 49\n",
      "6 12 [0, 1, 2, 2, 2, 1, 0, 1, 2, 2, 0, 1, 2, 1] 50\n",
      "7 8 [0, 1, 2, 2, 2, 1, 0, 1, 2, 2, 2, 0, 1, 1] 51\n"
     ]
    }
   ],
   "source": [
    "seq = [0,1,2,2,2,1,0,1,2,2,0,1,1]\n",
    "print(seq,dinv(seq))\n",
    "for i,ci in enumerate(admissible_insertion_positions(seq)):\n",
    "    nseq = insert(seq,ci)\n",
    "    print(i,ci,nseq,dinv(nseq))"
   ]
  },
  {
   "cell_type": "markdown",
   "metadata": {},
   "source": [
    "Using this, we easily implement the ``area_to_dinv`` function by simply growing the image sequence, using the ``grow_area_seq`` function which performs an insertion adding the right number of *dinv*. "
   ]
  },
  {
   "cell_type": "code",
   "execution_count": 4,
   "metadata": {},
   "outputs": [],
   "source": [
    "grow_area_seq??"
   ]
  },
  {
   "cell_type": "code",
   "execution_count": 6,
   "metadata": {},
   "outputs": [
    {
     "data": {
      "text/plain": [
       "[0, 1, 2, 3, 2, 2, 1, 0, 1, 2, 2, 0, 1, 1]"
      ]
     },
     "execution_count": 6,
     "metadata": {},
     "output_type": "execute_result"
    }
   ],
   "source": [
    "# grow area seq on the previous example\n",
    "grow_area_seq([0, 1, 2, 2, 2, 1, 0, 1, 2, 2, 0, 1, 1], 4)"
   ]
  },
  {
   "cell_type": "code",
   "execution_count": 7,
   "metadata": {},
   "outputs": [],
   "source": [
    "area_to_dinv??"
   ]
  },
  {
   "cell_type": "code",
   "execution_count": 8,
   "metadata": {},
   "outputs": [
    {
     "data": {
      "text/plain": [
       "[0, 0, 1, 2, 2, 2, 0, 1, 2, 3, 4, 5, 6, 5, 5, 6, 3]"
      ]
     },
     "execution_count": 8,
     "metadata": {},
     "output_type": "execute_result"
    }
   ],
   "source": [
    "# The example of Fig 5\n",
    "seq = [0,1,2,1,1,1,2,3,3,0,1,1,0,1,2,2,1]\n",
    "area_to_dinv(seq)"
   ]
  },
  {
   "cell_type": "code",
   "execution_count": 16,
   "metadata": {
    "scrolled": true
   },
   "outputs": [
    {
     "name": "stdout",
     "output_type": "stream",
     "text": [
      "[0]  -->  [0]\n",
      "area =  0  -- dinv =  0\n",
      "[0, 1]  -->  [0, 0]\n",
      "area =  1  -- dinv =  1\n",
      "[0, 1, 2]  -->  [0, 0, 0]\n",
      "area =  3  -- dinv =  3\n",
      "[0, 1, 2, 1]  -->  [0, 0, 1, 0]\n",
      "area =  4  -- dinv =  4\n",
      "[0, 1, 2, 1, 1]  -->  [0, 0, 1, 0, 1]\n",
      "area =  5  -- dinv =  5\n",
      "[0, 1, 2, 1, 1, 1]  -->  [0, 0, 1, 2, 0, 1]\n",
      "area =  6  -- dinv =  6\n",
      "[0, 1, 2, 1, 1, 1, 2]  -->  [0, 0, 1, 2, 2, 0, 1]\n",
      "area =  8  -- dinv =  8\n",
      "[0, 1, 2, 1, 1, 1, 2, 3]  -->  [0, 0, 1, 2, 2, 2, 0, 1]\n",
      "area =  11  -- dinv =  11\n",
      "[0, 1, 2, 1, 1, 1, 2, 3, 3]  -->  [0, 0, 1, 2, 2, 2, 0, 1, 2]\n",
      "area =  14  -- dinv =  14\n",
      "[0, 1, 2, 1, 1, 1, 2, 3, 3, 0]  -->  [0, 0, 1, 2, 2, 2, 0, 1, 2, 3]\n",
      "area =  14  -- dinv =  14\n",
      "[0, 1, 2, 1, 1, 1, 2, 3, 3, 0, 1]  -->  [0, 0, 1, 2, 2, 2, 0, 1, 2, 3, 3]\n",
      "area =  15  -- dinv =  15\n",
      "[0, 1, 2, 1, 1, 1, 2, 3, 3, 0, 1, 1]  -->  [0, 0, 1, 2, 2, 2, 0, 1, 2, 3, 4, 3]\n",
      "area =  16  -- dinv =  16\n",
      "[0, 1, 2, 1, 1, 1, 2, 3, 3, 0, 1, 1, 0]  -->  [0, 0, 1, 2, 2, 2, 0, 1, 2, 3, 4, 5, 3]\n",
      "area =  16  -- dinv =  16\n",
      "[0, 1, 2, 1, 1, 1, 2, 3, 3, 0, 1, 1, 0, 1]  -->  [0, 0, 1, 2, 2, 2, 0, 1, 2, 3, 4, 5, 5, 3]\n",
      "area =  17  -- dinv =  17\n",
      "[0, 1, 2, 1, 1, 1, 2, 3, 3, 0, 1, 1, 0, 1, 2]  -->  [0, 0, 1, 2, 2, 2, 0, 1, 2, 3, 4, 5, 5, 5, 3]\n",
      "area =  19  -- dinv =  19\n",
      "[0, 1, 2, 1, 1, 1, 2, 3, 3, 0, 1, 1, 0, 1, 2, 2]  -->  [0, 0, 1, 2, 2, 2, 0, 1, 2, 3, 4, 5, 6, 5, 5, 3]\n",
      "area =  21  -- dinv =  21\n",
      "[0, 1, 2, 1, 1, 1, 2, 3, 3, 0, 1, 1, 0, 1, 2, 2, 1]  -->  [0, 0, 1, 2, 2, 2, 0, 1, 2, 3, 4, 5, 6, 5, 5, 6, 3]\n",
      "area =  22  -- dinv =  22\n"
     ]
    }
   ],
   "source": [
    "# the step by step as in Fig. 5\n",
    "seq = [0,1,2,1,1,1,2,3,3,0,1,1,0,1,2,2,1]\n",
    "imageseq = []\n",
    "for i in range(len(seq)):\n",
    "    d = seq[i]\n",
    "    imageseq = grow_area_seq(imageseq,d)\n",
    "    print(seq[:i+1], \" --> \", imageseq)\n",
    "    print(\"area = \", sum(seq[:i+1]), \" -- dinv = \", dinv(imageseq))"
   ]
  },
  {
   "cell_type": "markdown",
   "metadata": {},
   "source": [
    "We can check that the map sends *area* to *dinv*"
   ]
  },
  {
   "cell_type": "code",
   "execution_count": 17,
   "metadata": {},
   "outputs": [
    {
     "data": {
      "text/plain": [
       "True"
      ]
     },
     "execution_count": 17,
     "metadata": {},
     "output_type": "execute_result"
    }
   ],
   "source": [
    "all(sum(seq) == dinv(area_to_dinv(seq)) for seq in area_sequences(4))"
   ]
  },
  {
   "cell_type": "code",
   "execution_count": 18,
   "metadata": {},
   "outputs": [
    {
     "data": {
      "text/plain": [
       "True"
      ]
     },
     "execution_count": 18,
     "metadata": {},
     "output_type": "execute_result"
    }
   ],
   "source": [
    "all(sum(seq) == dinv(area_to_dinv(seq)) for seq in area_sequences(5))"
   ]
  },
  {
   "cell_type": "code",
   "execution_count": 19,
   "metadata": {},
   "outputs": [
    {
     "data": {
      "text/plain": [
       "True"
      ]
     },
     "execution_count": 19,
     "metadata": {},
     "output_type": "execute_result"
    }
   ],
   "source": [
    "all(sum(seq) == dinv(area_to_dinv(seq)) for seq in area_sequences(6))"
   ]
  },
  {
   "cell_type": "markdown",
   "metadata": {},
   "source": [
    "The inverse map uses the function ``ungrow_area_seq`` "
   ]
  },
  {
   "cell_type": "code",
   "execution_count": 2,
   "metadata": {},
   "outputs": [],
   "source": [
    "ungrow_area_seq??"
   ]
  },
  {
   "cell_type": "code",
   "execution_count": 3,
   "metadata": {},
   "outputs": [],
   "source": [
    "dinv_to_area??"
   ]
  },
  {
   "cell_type": "code",
   "execution_count": 2,
   "metadata": {},
   "outputs": [
    {
     "data": {
      "text/plain": [
       "[0, 1, 2, 1, 1, 1, 2, 3, 3, 0, 1, 1, 0, 1, 2, 2, 1]"
      ]
     },
     "execution_count": 2,
     "metadata": {},
     "output_type": "execute_result"
    }
   ],
   "source": [
    "dinv_to_area([0, 0, 1, 2, 2, 2, 0, 1, 2, 3, 4, 5, 6, 5, 5, 6, 3])"
   ]
  },
  {
   "cell_type": "markdown",
   "metadata": {},
   "source": [
    "We can check that it is indeed the inverse map"
   ]
  },
  {
   "cell_type": "code",
   "execution_count": 3,
   "metadata": {},
   "outputs": [
    {
     "data": {
      "text/plain": [
       "True"
      ]
     },
     "execution_count": 3,
     "metadata": {},
     "output_type": "execute_result"
    }
   ],
   "source": [
    "seq = [0,1,2,1,1,1,2,3,3,0,1,1,0,1,2,2,1]\n",
    "dinv_to_area(area_to_dinv(seq)) == seq"
   ]
  },
  {
   "cell_type": "code",
   "execution_count": 4,
   "metadata": {},
   "outputs": [
    {
     "data": {
      "text/plain": [
       "True"
      ]
     },
     "execution_count": 4,
     "metadata": {},
     "output_type": "execute_result"
    }
   ],
   "source": [
    "all(dinv_to_area(area_to_dinv(seq)) == seq for seq in area_sequences(4))"
   ]
  },
  {
   "cell_type": "code",
   "execution_count": 5,
   "metadata": {},
   "outputs": [
    {
     "data": {
      "text/plain": [
       "True"
      ]
     },
     "execution_count": 5,
     "metadata": {},
     "output_type": "execute_result"
    }
   ],
   "source": [
    "all(dinv_to_area(area_to_dinv(seq)) == seq for seq in area_sequences(5))"
   ]
  },
  {
   "cell_type": "code",
   "execution_count": 6,
   "metadata": {},
   "outputs": [
    {
     "data": {
      "text/plain": [
       "True"
      ]
     },
     "execution_count": 6,
     "metadata": {},
     "output_type": "execute_result"
    }
   ],
   "source": [
    "all(dinv_to_area(area_to_dinv(seq)) == seq for seq in area_sequences(6))"
   ]
  },
  {
   "cell_type": "markdown",
   "metadata": {},
   "source": [
    "### Bounce to area\n",
    "\n",
    "We can check proposition 7"
   ]
  },
  {
   "cell_type": "code",
   "execution_count": 32,
   "metadata": {},
   "outputs": [],
   "source": [
    "# checking the bullet points of Prop 7\n",
    "def check_prop7_1(seq):\n",
    "    if len(seq) == 0:\n",
    "        return True\n",
    "    u = seq[:-1]\n",
    "    imageu = area_to_dinv(u)\n",
    "    imageseq = grow_area_seq(imageu, seq[-1])\n",
    "    bseq = bounce_seq(seq)\n",
    "    bniszero = (bseq[-1] == 0)\n",
    "    maxw = max(imageseq)\n",
    "    maxincrease = (maxw == max(imageu) + 1)\n",
    "    B = [i for i in range(1,len(bseq)) if bseq[i] == 0]\n",
    "    M = list(M_positions(imageseq))\n",
    "    Mprime = list(Mprime_positions(imageseq))\n",
    "    return bniszero == maxincrease and len(B) == maxw and len(M) == bseq[-1] + 1 and len(Mprime) == seq[-1] - bseq[-1]\n",
    "    \n",
    "    "
   ]
  },
  {
   "cell_type": "code",
   "execution_count": 20,
   "metadata": {},
   "outputs": [
    {
     "data": {
      "text/plain": [
       "True"
      ]
     },
     "execution_count": 20,
     "metadata": {},
     "output_type": "execute_result"
    }
   ],
   "source": [
    "seq = [0,1,2,1,1,1,2,3,3,0,1,1,0,1,2,2,1]\n",
    "check_prop7_1(seq)"
   ]
  },
  {
   "cell_type": "code",
   "execution_count": 21,
   "metadata": {},
   "outputs": [
    {
     "data": {
      "text/plain": [
       "True"
      ]
     },
     "execution_count": 21,
     "metadata": {},
     "output_type": "execute_result"
    }
   ],
   "source": [
    "all(check_prop7_1(seq) for seq in area_sequences(4))"
   ]
  },
  {
   "cell_type": "code",
   "execution_count": 22,
   "metadata": {},
   "outputs": [
    {
     "data": {
      "text/plain": [
       "True"
      ]
     },
     "execution_count": 22,
     "metadata": {},
     "output_type": "execute_result"
    }
   ],
   "source": [
    "all(check_prop7_1(seq) for seq in area_sequences(5))"
   ]
  },
  {
   "cell_type": "code",
   "execution_count": 23,
   "metadata": {},
   "outputs": [
    {
     "data": {
      "text/plain": [
       "True"
      ]
     },
     "execution_count": 23,
     "metadata": {},
     "output_type": "execute_result"
    }
   ],
   "source": [
    "all(check_prop7_1(seq) for seq in area_sequences(6))"
   ]
  },
  {
   "cell_type": "code",
   "execution_count": 33,
   "metadata": {},
   "outputs": [],
   "source": [
    "# checking the final statement of Prop 7\n",
    "def check_prop7_2(seq):\n",
    "    imageseq = area_to_dinv(seq)\n",
    "    bseq = bounce_seq(seq)\n",
    "    B = [i for i in range(1,len(bseq)) if bseq[i] == 0]\n",
    "    n = len(seq)\n",
    "    return all(sum(1 for v in imageseq if v >= k) == n - B[k-1] for k in range(1,max(imageseq)+1))\n",
    "    "
   ]
  },
  {
   "cell_type": "code",
   "execution_count": 31,
   "metadata": {},
   "outputs": [
    {
     "data": {
      "text/plain": [
       "True"
      ]
     },
     "execution_count": 31,
     "metadata": {},
     "output_type": "execute_result"
    }
   ],
   "source": [
    "seq = [0,1,2,1,1,1,2,3,3,0,1,1,0,1,2,2,1]\n",
    "check_prop7_2(seq)"
   ]
  },
  {
   "cell_type": "code",
   "execution_count": 34,
   "metadata": {},
   "outputs": [
    {
     "data": {
      "text/plain": [
       "True"
      ]
     },
     "execution_count": 34,
     "metadata": {},
     "output_type": "execute_result"
    }
   ],
   "source": [
    "all(check_prop7_2(seq) for seq in area_sequences(4))"
   ]
  },
  {
   "cell_type": "code",
   "execution_count": 35,
   "metadata": {},
   "outputs": [
    {
     "data": {
      "text/plain": [
       "True"
      ]
     },
     "execution_count": 35,
     "metadata": {},
     "output_type": "execute_result"
    }
   ],
   "source": [
    "all(check_prop7_2(seq) for seq in area_sequences(5))"
   ]
  },
  {
   "cell_type": "code",
   "execution_count": 36,
   "metadata": {},
   "outputs": [
    {
     "data": {
      "text/plain": [
       "True"
      ]
     },
     "execution_count": 36,
     "metadata": {},
     "output_type": "execute_result"
    }
   ],
   "source": [
    "all(check_prop7_2(seq) for seq in area_sequences(6))"
   ]
  },
  {
   "cell_type": "markdown",
   "metadata": {},
   "source": [
    "Finally, we can check than indeed the *bounce* is sent to the *area*"
   ]
  },
  {
   "cell_type": "code",
   "execution_count": 37,
   "metadata": {},
   "outputs": [
    {
     "data": {
      "text/plain": [
       "True"
      ]
     },
     "execution_count": 37,
     "metadata": {},
     "output_type": "execute_result"
    }
   ],
   "source": [
    "seq = [0,1,2,1,1,1,2,3,3,0,1,1,0,1,2,2,1]\n",
    "bounce(seq) == sum(area_to_dinv(seq))"
   ]
  },
  {
   "cell_type": "code",
   "execution_count": 38,
   "metadata": {},
   "outputs": [
    {
     "data": {
      "text/plain": [
       "True"
      ]
     },
     "execution_count": 38,
     "metadata": {},
     "output_type": "execute_result"
    }
   ],
   "source": [
    "all(bounce(seq) == sum(area_to_dinv(seq)) for seq in area_sequences(4))"
   ]
  },
  {
   "cell_type": "code",
   "execution_count": 39,
   "metadata": {},
   "outputs": [
    {
     "data": {
      "text/plain": [
       "True"
      ]
     },
     "execution_count": 39,
     "metadata": {},
     "output_type": "execute_result"
    }
   ],
   "source": [
    "all(bounce(seq) == sum(area_to_dinv(seq)) for seq in area_sequences(5))"
   ]
  },
  {
   "cell_type": "code",
   "execution_count": 40,
   "metadata": {},
   "outputs": [
    {
     "data": {
      "text/plain": [
       "True"
      ]
     },
     "execution_count": 40,
     "metadata": {},
     "output_type": "execute_result"
    }
   ],
   "source": [
    "all(bounce(seq) == sum(area_to_dinv(seq)) for seq in area_sequences(6))"
   ]
  },
  {
   "cell_type": "markdown",
   "metadata": {},
   "source": [
    "### The $\\zeta$ map\n",
    "\n",
    "We provide ``dw_area_to_dinv`` and ``dw_dinv_to_area`` to apply the map directly on SageMath Dyck words."
   ]
  },
  {
   "cell_type": "code",
   "execution_count": 2,
   "metadata": {},
   "outputs": [],
   "source": [
    "seq = [0,1,2,1,1,1,2,3,3,0,1,1,0,1,2,2,1]\n",
    "dw = DyckWords().from_area_sequence(seq)"
   ]
  },
  {
   "cell_type": "code",
   "execution_count": 7,
   "metadata": {},
   "outputs": [
    {
     "data": {
      "text/plain": [
       "[1, 1, 1, 0, 0, 1, 0, 1, 0, 1, 1, 1, 0, 1, 0, 0, 0, 0, 1, 1, 0, 1, 0, 0, 1, 1, 1, 0, 1, 0, 0, 1, 0, 0]"
      ]
     },
     "execution_count": 7,
     "metadata": {},
     "output_type": "execute_result"
    }
   ],
   "source": [
    "dw"
   ]
  },
  {
   "cell_type": "code",
   "execution_count": 4,
   "metadata": {},
   "outputs": [
    {
     "data": {
      "text/plain": [
       "[1, 0, 1, 1, 1, 0, 1, 0, 1, 0, 0, 0, 1, 1, 1, 1, 1, 1, 1, 0, 0, 1, 0, 1, 1, 0, 0, 0, 0, 1, 0, 0, 0, 0]"
      ]
     },
     "execution_count": 4,
     "metadata": {},
     "output_type": "execute_result"
    }
   ],
   "source": [
    "dw_area_to_dinv(dw)"
   ]
  },
  {
   "cell_type": "code",
   "execution_count": 5,
   "metadata": {},
   "outputs": [
    {
     "data": {
      "text/plain": [
       "[1, 1, 1, 0, 1, 1, 1, 1, 0, 1, 1, 0, 1, 1, 0, 1, 0, 0, 0, 1, 0, 0, 0, 1, 1, 0, 0, 0, 1, 1, 0, 0, 0, 0]"
      ]
     },
     "execution_count": 5,
     "metadata": {},
     "output_type": "execute_result"
    }
   ],
   "source": [
    "dw_dinv_to_area(dw)"
   ]
  },
  {
   "cell_type": "markdown",
   "metadata": {},
   "source": [
    "We can check that the map sends *area* to *dinv*"
   ]
  },
  {
   "cell_type": "code",
   "execution_count": 8,
   "metadata": {},
   "outputs": [
    {
     "data": {
      "text/plain": [
       "True"
      ]
     },
     "execution_count": 8,
     "metadata": {},
     "output_type": "execute_result"
    }
   ],
   "source": [
    "seq = [0,1,2,1,1,1,2,3,3,0,1,1,0,1,2,2,1]\n",
    "dw = DyckWords().from_area_sequence(seq)\n",
    "dw.area() == dw_area_to_dinv(dw).dinv()"
   ]
  },
  {
   "cell_type": "code",
   "execution_count": 9,
   "metadata": {},
   "outputs": [
    {
     "data": {
      "text/plain": [
       "True"
      ]
     },
     "execution_count": 9,
     "metadata": {},
     "output_type": "execute_result"
    }
   ],
   "source": [
    "all(dw.area() == dw_area_to_dinv(dw).dinv() for dw in DyckWords(4))"
   ]
  },
  {
   "cell_type": "code",
   "execution_count": 10,
   "metadata": {},
   "outputs": [
    {
     "data": {
      "text/plain": [
       "True"
      ]
     },
     "execution_count": 10,
     "metadata": {},
     "output_type": "execute_result"
    }
   ],
   "source": [
    "all(dw.area() == dw_area_to_dinv(dw).dinv() for dw in DyckWords(5))"
   ]
  },
  {
   "cell_type": "code",
   "execution_count": 11,
   "metadata": {},
   "outputs": [
    {
     "data": {
      "text/plain": [
       "True"
      ]
     },
     "execution_count": 11,
     "metadata": {},
     "output_type": "execute_result"
    }
   ],
   "source": [
    "all(dw.area() == dw_area_to_dinv(dw).dinv() for dw in DyckWords(6))"
   ]
  },
  {
   "cell_type": "markdown",
   "metadata": {},
   "source": [
    "For the bounce, we need to reverse the Dyck path to fit the Sage definition"
   ]
  },
  {
   "cell_type": "code",
   "execution_count": 14,
   "metadata": {},
   "outputs": [
    {
     "data": {
      "text/plain": [
       "True"
      ]
     },
     "execution_count": 14,
     "metadata": {},
     "output_type": "execute_result"
    }
   ],
   "source": [
    "seq = [0,1,2,1,1,1,2,3,3,0,1,1,0,1,2,2,1]\n",
    "dw = DyckWords().from_area_sequence(seq)\n",
    "dw.reverse().bounce() == dw_area_to_dinv(dw).area()"
   ]
  },
  {
   "cell_type": "code",
   "execution_count": 15,
   "metadata": {},
   "outputs": [
    {
     "data": {
      "text/plain": [
       "True"
      ]
     },
     "execution_count": 15,
     "metadata": {},
     "output_type": "execute_result"
    }
   ],
   "source": [
    "all(dw.reverse().bounce() == dw_area_to_dinv(dw).area() for dw in DyckWords(4))"
   ]
  },
  {
   "cell_type": "code",
   "execution_count": 16,
   "metadata": {},
   "outputs": [
    {
     "data": {
      "text/plain": [
       "True"
      ]
     },
     "execution_count": 16,
     "metadata": {},
     "output_type": "execute_result"
    }
   ],
   "source": [
    "all(dw.reverse().bounce() == dw_area_to_dinv(dw).area() for dw in DyckWords(5))"
   ]
  },
  {
   "cell_type": "code",
   "execution_count": 17,
   "metadata": {},
   "outputs": [
    {
     "data": {
      "text/plain": [
       "True"
      ]
     },
     "execution_count": 17,
     "metadata": {},
     "output_type": "execute_result"
    }
   ],
   "source": [
    "all(dw.reverse().bounce() == dw_area_to_dinv(dw).area() for dw in DyckWords(6))"
   ]
  },
  {
   "cell_type": "markdown",
   "metadata": {},
   "source": [
    "And finally, we can check that the map corresponds to the Sage map if we first reverse the Dyck path (as explained in the Sage documentation)"
   ]
  },
  {
   "cell_type": "code",
   "execution_count": 20,
   "metadata": {},
   "outputs": [
    {
     "data": {
      "text/plain": [
       "True"
      ]
     },
     "execution_count": 20,
     "metadata": {},
     "output_type": "execute_result"
    }
   ],
   "source": [
    "seq = [0,1,2,1,1,1,2,3,3,0,1,1,0,1,2,2,1]\n",
    "dw = DyckWords().from_area_sequence(seq)\n",
    "dw.reverse().bounce_area_to_area_dinv_map() == dw_area_to_dinv(dw)"
   ]
  },
  {
   "cell_type": "code",
   "execution_count": 21,
   "metadata": {},
   "outputs": [
    {
     "data": {
      "text/plain": [
       "True"
      ]
     },
     "execution_count": 21,
     "metadata": {},
     "output_type": "execute_result"
    }
   ],
   "source": [
    "all(dw.reverse().bounce_area_to_area_dinv_map() == dw_area_to_dinv(dw) for dw in DyckWords(4))"
   ]
  },
  {
   "cell_type": "code",
   "execution_count": 22,
   "metadata": {},
   "outputs": [
    {
     "data": {
      "text/plain": [
       "True"
      ]
     },
     "execution_count": 22,
     "metadata": {},
     "output_type": "execute_result"
    }
   ],
   "source": [
    "all(dw.reverse().bounce_area_to_area_dinv_map() == dw_area_to_dinv(dw) for dw in DyckWords(5))"
   ]
  },
  {
   "cell_type": "code",
   "execution_count": 23,
   "metadata": {},
   "outputs": [
    {
     "data": {
      "text/plain": [
       "True"
      ]
     },
     "execution_count": 23,
     "metadata": {},
     "output_type": "execute_result"
    }
   ],
   "source": [
    "all(dw.reverse().bounce_area_to_area_dinv_map() == dw_area_to_dinv(dw) for dw in DyckWords(6))"
   ]
  },
  {
   "cell_type": "code",
   "execution_count": null,
   "metadata": {},
   "outputs": [],
   "source": []
  }
 ],
 "metadata": {
  "kernelspec": {
   "display_name": "SageMath 9.2",
   "language": "sage",
   "name": "sagemath"
  },
  "language_info": {
   "codemirror_mode": {
    "name": "ipython",
    "version": 3
   },
   "file_extension": ".py",
   "mimetype": "text/x-python",
   "name": "python",
   "nbconvert_exporter": "python",
   "pygments_lexer": "ipython3",
   "version": "3.8.5"
  }
 },
 "nbformat": 4,
 "nbformat_minor": 4
}
